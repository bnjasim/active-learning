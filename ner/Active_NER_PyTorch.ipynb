{
 "cells": [
  {
   "cell_type": "code",
   "execution_count": 1,
   "metadata": {},
   "outputs": [],
   "source": [
    "import logging\n",
    "import os\n",
    "\n",
    "import numpy as np\n",
    "import torch\n",
    "import torch.optim as optim\n",
    "from tqdm import trange\n",
    "from tqdm import tqdm_notebook as tqdm\n",
    "\n",
    "import utils\n",
    "import model.net as net\n",
    "from model.data_loader import DataLoader\n",
    "from evaluate import evaluate, f_score_simple"
   ]
  },
  {
   "cell_type": "code",
   "execution_count": 2,
   "metadata": {},
   "outputs": [],
   "source": [
    "data_dir = 'data/coNLL/eng/'\n",
    "model_dir = 'experiments/coNLL/active_learning/'\n",
    "# data_dir = 'data/kaggle/'\n",
    "# model_dir = 'experiments/kaggle/active_learning/'\n",
    "json_path = os.path.join(model_dir, 'params.json')\n",
    "params = utils.Params(json_path)\n",
    "# use GPU if available\n",
    "params.cuda = torch.cuda.is_available()"
   ]
  },
  {
   "cell_type": "code",
   "execution_count": 3,
   "metadata": {},
   "outputs": [
    {
     "name": "stdout",
     "output_type": "stream",
     "text": [
      "14041 14041\n",
      "3250 3250\n",
      "3453 3453\n"
     ]
    }
   ],
   "source": [
    "# load data\n",
    "data_loader = DataLoader(data_dir, params)\n",
    "data = data_loader.load_data(['train', 'val', 'test'])\n",
    "train_data = data['train']\n",
    "val_data = data['val']\n",
    "test_data = data['test']\n",
    "\n",
    "# specify the train and val dataset sizes\n",
    "params.train_size = train_data['size']\n",
    "params.val_size = val_data['size']\n",
    "params.test_size = test_data['size']\n",
    "\n",
    "params.pad_tag_ind = data_loader.tag_map[params.pad_tag]"
   ]
  },
  {
   "cell_type": "code",
   "execution_count": 4,
   "metadata": {},
   "outputs": [],
   "source": [
    "# Define the model and optimizer\n",
    "model = net.Net(params).cuda()"
   ]
  },
  {
   "cell_type": "code",
   "execution_count": 27,
   "metadata": {},
   "outputs": [],
   "source": [
    "# optimizer = optim.SGD(model.parameters(), lr=params.learning_rate, momentum=0.9) # nesterov=True\n",
    "# optimizer = optim.RMSprop(model.parameters(), lr=params.learning_rate)\n",
    "# optimizer = optim.Rprop(model.parameters(), lr=params.learning_rate)\n",
    "# fetch loss function and metrics\n",
    "loss_fn = net.loss_fn\n",
    "metrics = net.metrics"
   ]
  },
  {
   "cell_type": "code",
   "execution_count": 135,
   "metadata": {},
   "outputs": [],
   "source": [
    "def model_init():\n",
    "    global model, optimizer, loss_fn, metrics\n",
    "    \n",
    "    model = net.Net(params).cuda()\n",
    "    # optimizer = optim.SGD(model.parameters(), lr=params.learning_rate, momentum=0.9) # nesterov=True\n",
    "    optimizer = optim.Adam(model.parameters(), lr=params.learning_rate)\n",
    "    # fetch loss function and metrics\n",
    "    loss_fn = net.loss_fn\n",
    "    metrics = net.metrics\n",
    "    \n",
    "    # Set the logger\n",
    "    utils.set_logger(os.path.join(model_dir, 'train.log'))\n",
    "    \n",
    "def save_model(save_file='init'):\n",
    "    filepath = os.path.join(model_dir, save_file + '.pth.tar')\n",
    "    if not os.path.exists(model_dir):\n",
    "        print(\"Model Directory does not exist! Making directory {}\".format(checkpoint))\n",
    "        os.mkdir(model_dir)\n",
    "    else:\n",
    "        # print(\"Model Directory exists! \")\n",
    "        print('Model saved')\n",
    "        \n",
    "    state = {'state_dict': model.state_dict(), 'optim_dict' : optimizer.state_dict()}    \n",
    "    torch.save(state, filepath)\n",
    "\n",
    "\n",
    "def restore_model(restore_file='init'):\n",
    "    global optimizer\n",
    "    \n",
    "    checkpoint = os.path.join(model_dir, restore_file + '.pth.tar')\n",
    "    if not os.path.exists(checkpoint):\n",
    "        raise Exception(\"File doesn't exist {}\".format(checkpoint))\n",
    "    checkpoint = torch.load(checkpoint)\n",
    "    model.load_state_dict(checkpoint['state_dict'])\n",
    "    print('Model Restored')\n",
    "    \n",
    "    # can change the optimizer here\n",
    "    # optimizer = optim.RMSprop(model.parameters(), lr=params.learning_rate * 0.1)\n",
    "    # optimizer = optim.SGD(model.parameters(), lr=params.learning_rate * 0.15, momentum=0.9)\n",
    "    optimizer = optim.Adam(model.parameters(), lr=params.learning_rate * 0.1)"
   ]
  },
  {
   "cell_type": "code",
   "execution_count": 108,
   "metadata": {},
   "outputs": [],
   "source": [
    "def train(model, optimizer, loss_fn, data_iterator, metrics, params, num_steps):\n",
    "    \"\"\"Train the model on `num_steps` batches\n",
    "    Args:\n",
    "        model: (torch.nn.Module) the neural network\n",
    "        optimizer: (torch.optim) optimizer for parameters of model\n",
    "        loss_fn: a function that takes batch_output and batch_labels and computes the loss for the batch\n",
    "        data_iterator: (generator) a generator that generates batches of data and labels and sequence lenghts in batch\n",
    "        metrics: (dict) a dictionary of functions that compute a metric using the output and labels of each batch\n",
    "        params: (Params) hyperparameters\n",
    "        num_steps: (int) number of batches to train on, each of size params.batch_size\n",
    "    \"\"\"\n",
    "\n",
    "    # set model to training mode\n",
    "    model.train()\n",
    "\n",
    "    # summary for current training loop and a running average object for loss\n",
    "    summ = []\n",
    "    loss_avg = utils.RunningAverage()\n",
    "    \n",
    "    # Use tqdm for progress bar\n",
    "    t = trange(num_steps) \n",
    "    for i in t:\n",
    "        # fetch the next training batch\n",
    "        train_batch, labels_batch,_ = next(data_iterator)\n",
    "\n",
    "        # compute model output and loss\n",
    "        output_batch = model(train_batch)\n",
    "        loss = loss_fn(output_batch, labels_batch)\n",
    "\n",
    "        # clear previous gradients, compute gradients of all variables wrt loss\n",
    "        optimizer.zero_grad()\n",
    "        loss.backward()\n",
    "\n",
    "        # performs updates using calculated gradients\n",
    "        optimizer.step()\n",
    "\n",
    "        # update the average loss\n",
    "        loss_avg.update(loss.item())\n",
    "        t.set_postfix(loss='{:05.3f}'.format(loss_avg()))\n",
    "\n",
    "    # compute sample metrics on the last batch of the epoch\n",
    "    # extract data from torch Variable, move to cpu, convert to numpy arrays\n",
    "    output_batch = output_batch.data.cpu().numpy()\n",
    "    labels_batch = labels_batch.data.cpu().numpy()\n",
    "\n",
    "    # compute all metrics on this batch\n",
    "    summary_batch = {metric:metrics[metric](output_batch, labels_batch, params) for metric in metrics}\n",
    "    summary_batch['loss'] = loss.item()\n",
    "    summ.append(summary_batch)\n",
    "    \n",
    "    metrics_mean = {metric:np.mean([x[metric] for x in summ]) for metric in summ[0]} \n",
    "    metrics_string = \" ; \".join(\"{}: {:05.3f}\".format(k, v) for k, v in metrics_mean.items())\n",
    "    logging.info(\"- Train metrics: \" + metrics_string)"
   ]
  },
  {
   "cell_type": "code",
   "execution_count": 109,
   "metadata": {},
   "outputs": [],
   "source": [
    "def train_model(data, labels, step=None):\n",
    "    '''step may indicate acuistion iteration and can be used for logging'''\n",
    "    print('Training data size: ' + str(len(data)))\n",
    "    \n",
    "    data_dict = {'data':data, 'labels':labels, 'size':len(data)} \n",
    "    num_steps = (len(data) + 1) // model.params.batch_size\n",
    "    \n",
    "    for epoch in range(model.params.num_epochs):\n",
    "        # run one epoch\n",
    "        logging.info(\"Epoch {}/{}\".format(epoch + 1, model.params.num_epochs))\n",
    "        data_iterator = data_loader.data_iterator(data_dict, model.params, shuffle=True)\n",
    "        train(model, optimizer, loss_fn, data_iterator, metrics, model.params, num_steps)"
   ]
  },
  {
   "cell_type": "code",
   "execution_count": 110,
   "metadata": {},
   "outputs": [],
   "source": [
    "def test_model(data, labels, step=None):\n",
    "    # Evaluate for one epoch on validation set\n",
    "    # set on eval mode\n",
    "    model.eval()\n",
    "    \n",
    "    num_steps = (len(data) + 1) // model.params.batch_size\n",
    "    data_dict = {'data':data, 'labels':labels, 'size':len(data)} \n",
    "    \n",
    "    # data_iterator = data_loader.data_iterator(data_dict, model.params, shuffle=False)\n",
    "    test_metrics = evaluate(model, loss_fn, data_dict, metrics, data_loader, params, num_steps)\n",
    "    \n",
    "    # val_acc = val_metrics['accuracy']\n",
    "    test_acc = test_metrics['f1']\n",
    "    return test_acc"
   ]
  },
  {
   "cell_type": "code",
   "execution_count": 111,
   "metadata": {},
   "outputs": [],
   "source": [
    "def mnlp(pool_data, num_samples, step=None):\n",
    "    # set in test mode\n",
    "    model.eval()\n",
    "    \n",
    "    data_dict = {'data':pool_data, 'labels':[1]*len(pool_data), 'size':len(pool_data)}\n",
    "    data_iterator = data_loader.data_iterator(data_dict, model.params, shuffle=False)\n",
    "    \n",
    "    num_steps = (len(pool_data) + 1) // model.params.batch_size\n",
    "    \n",
    "    print('MNLP over Pool Data')\n",
    "    probs = np.array([])\n",
    "    # Use tqdm for progress bar\n",
    "    t = trange(num_steps) \n",
    "    for i in t:\n",
    "        # fetch the next training batch\n",
    "        data_batch, labels_batch, seql = next(data_iterator)\n",
    "        # compute model output and loss\n",
    "        output_batch = model(data_batch)\n",
    "        output_batch = output_batch.data.cpu().numpy()\n",
    "        \n",
    "        outputs = np.max(output_batch, axis=1) # shape: seql*batch_size\n",
    "        outputs = outputs.reshape((len(labels_batch), -1))\n",
    "        assert len(seql) == len(outputs), 'lengths of seql and outputs should match'\n",
    "        # mask beyond sequence length to 0\n",
    "        for i in range(len(outputs)):\n",
    "            outputs[i][seql[i]:] = 0\n",
    "        \n",
    "        p = np.sum(outputs, axis=1) / seql\n",
    "        probs = np.hstack((probs, p))\n",
    "    \n",
    "    pos = np.argpartition(probs, num_samples)[:num_samples]\n",
    "    return pos"
   ]
  },
  {
   "cell_type": "code",
   "execution_count": 115,
   "metadata": {},
   "outputs": [],
   "source": [
    "def var_ratio(pool_data, num_samples, step=None):\n",
    "    # set in test mode\n",
    "    model.eval()\n",
    "    \n",
    "    data_dict = {'data':pool_data, 'labels':[1]*len(pool_data), 'size':len(pool_data)}\n",
    "    data_iterator = data_loader.data_iterator(data_dict, model.params, shuffle=False)\n",
    "    \n",
    "    num_steps = (len(pool_data) + 1) // model.params.batch_size\n",
    "    \n",
    "    print('MNLP over Pool Data')\n",
    "    probs = np.array([])\n",
    "    # Use tqdm for progress bar\n",
    "    t = trange(num_steps) \n",
    "    for i in t:\n",
    "        # fetch the next training batch\n",
    "        data_batch, labels_batch, seql = next(data_iterator)\n",
    "        # compute model output and loss\n",
    "        output_batch = model(data_batch)\n",
    "        output_batch = output_batch.data.cpu().numpy()\n",
    "        \n",
    "        outputs = np.max(output_batch, axis=1) # shape: seql*batch_size\n",
    "        outputs = outputs.reshape((len(labels_batch), -1))\n",
    "        assert len(seql) == len(outputs), 'lengths of seql and outputs should match'\n",
    "        # mask beyond sequence length to 0\n",
    "        for i in range(len(outputs)):\n",
    "            outputs[i][seql[i]:] = 0\n",
    "        \n",
    "        p = np.sum(outputs, axis=1)\n",
    "        probs = np.hstack((probs, p))\n",
    "    \n",
    "    pos = np.argpartition(probs, num_samples)[:num_samples]\n",
    "    return pos"
   ]
  },
  {
   "cell_type": "code",
   "execution_count": 137,
   "metadata": {},
   "outputs": [
    {
     "name": "stderr",
     "output_type": "stream",
     "text": [
      "Epoch 1/15\n",
      " 50%|█████     | 20/40 [00:00<00:00, 103.18it/s, loss=1.452]"
     ]
    },
    {
     "name": "stdout",
     "output_type": "stream",
     "text": [
      "Picked 200 datapoints\n",
      "Size of updated unsupervised pool = 13841\n",
      "\n",
      "Initial Training\n",
      "Training data size: 200\n"
     ]
    },
    {
     "name": "stderr",
     "output_type": "stream",
     "text": [
      "100%|██████████| 40/40 [00:00<00:00, 194.18it/s, loss=1.423]\n",
      "- Train metrics: accuracy: 0.727 ; loss: 1.149\n",
      "Epoch 2/15\n",
      "100%|██████████| 40/40 [00:00<00:00, 202.20it/s, loss=0.715]\n",
      "- Train metrics: accuracy: 0.810 ; loss: 0.787\n",
      "Epoch 3/15\n",
      "100%|██████████| 40/40 [00:00<00:00, 202.97it/s, loss=0.675]\n",
      "- Train metrics: accuracy: 0.560 ; loss: 1.436\n",
      "Epoch 4/15\n",
      "100%|██████████| 40/40 [00:00<00:00, 201.29it/s, loss=0.625]\n",
      "- Train metrics: accuracy: 0.903 ; loss: 0.505\n",
      "Epoch 5/15\n",
      "100%|██████████| 40/40 [00:00<00:00, 200.40it/s, loss=0.578]\n",
      "- Train metrics: accuracy: 0.857 ; loss: 0.516\n",
      "Epoch 6/15\n",
      "100%|██████████| 40/40 [00:00<00:00, 202.12it/s, loss=0.565]\n",
      "- Train metrics: accuracy: 0.915 ; loss: 0.477\n",
      "Epoch 7/15\n",
      "100%|██████████| 40/40 [00:00<00:00, 202.38it/s, loss=0.526]\n",
      "- Train metrics: accuracy: 0.864 ; loss: 0.486\n",
      "Epoch 8/15\n",
      "100%|██████████| 40/40 [00:00<00:00, 201.04it/s, loss=0.475]\n",
      "- Train metrics: accuracy: 0.843 ; loss: 0.600\n",
      "Epoch 9/15\n",
      "100%|██████████| 40/40 [00:00<00:00, 201.19it/s, loss=0.434]\n",
      "- Train metrics: accuracy: 0.800 ; loss: 0.555\n",
      "Epoch 10/15\n",
      "100%|██████████| 40/40 [00:00<00:00, 202.41it/s, loss=0.394]\n",
      "- Train metrics: accuracy: 0.923 ; loss: 0.353\n",
      "Epoch 11/15\n",
      "100%|██████████| 40/40 [00:00<00:00, 202.53it/s, loss=0.352]\n",
      "- Train metrics: accuracy: 0.889 ; loss: 0.412\n",
      "Epoch 12/15\n",
      "100%|██████████| 40/40 [00:00<00:00, 203.63it/s, loss=0.310]\n",
      "- Train metrics: accuracy: 0.955 ; loss: 0.187\n",
      "Epoch 13/15\n",
      "100%|██████████| 40/40 [00:00<00:00, 200.93it/s, loss=0.281]\n",
      "- Train metrics: accuracy: 0.867 ; loss: 0.278\n",
      "Epoch 14/15\n",
      "100%|██████████| 40/40 [00:00<00:00, 203.09it/s, loss=0.251]\n",
      "- Train metrics: accuracy: 0.955 ; loss: 0.160\n",
      "Epoch 15/15\n",
      "100%|██████████| 40/40 [00:00<00:00, 197.23it/s, loss=0.220]\n",
      "- Train metrics: accuracy: 0.967 ; loss: 0.167\n",
      "- Eval metrics : accuracy: 0.761 ; loss: 0.807 ; f1: 20.988\n"
     ]
    },
    {
     "name": "stdout",
     "output_type": "stream",
     "text": [
      "Model saved\n",
      "Successfully saved the initial model\n"
     ]
    }
   ],
   "source": [
    "a = ActiveLearner(train_data['data'], train_data['labels'], test_data['data'], test_data['labels'], \n",
    "                  model_init, train_model, test_model, save_model, restore_model, init_num_samples=200)"
   ]
  },
  {
   "cell_type": "code",
   "execution_count": null,
   "metadata": {},
   "outputs": [],
   "source": [
    "a.run(10, [mnlp, random_acq], pool_subset_count=1000, num_samples=10)"
   ]
  },
  {
   "cell_type": "code",
   "execution_count": 141,
   "metadata": {
    "scrolled": true
   },
   "outputs": [
    {
     "data": {
      "image/png": "[encoded data removed]",
      "text/plain": [
       "<Figure size 432x288 with 1 Axes>"
      ]
     },
     "metadata": {},
     "output_type": "display_data"
    }
   ],
   "source": [
    "a.plot()"
   ]
  },
  {
   "cell_type": "code",
   "execution_count": 106,
   "metadata": {},
   "outputs": [
    {
     "data": {
      "image/png": "[encoded data removed]",
      "text/plain": [
       "<Figure size 432x288 with 1 Axes>"
      ]
     },
     "metadata": {},
     "output_type": "display_data"
    }
   ],
   "source": [
    "a.plot()"
   ]
  },
  {
   "cell_type": "code",
   "execution_count": 98,
   "metadata": {},
   "outputs": [
    {
     "data": {
      "text/plain": [
       "array([ 200.,  410.,  528.,  649.,  774.,  979., 1152., 1308., 1519.,\n",
       "       1670., 1807., 1956., 2189., 2292., 2422., 2552., 2683., 2853.,\n",
       "       3014., 3203., 3347.])"
      ]
     },
     "execution_count": 98,
     "metadata": {},
     "output_type": "execute_result"
    }
   ],
   "source": [
    "y_random[0]"
   ]
  },
  {
   "cell_type": "code",
   "execution_count": 100,
   "metadata": {},
   "outputs": [
    {
     "data": {
      "text/plain": [
       "array([ 200.,  219.,  255.,  289.,  317.,  351.,  391.,  421.,  449.,\n",
       "        482.,  515.,  542.,  577.,  612.,  645.,  677.,  707.,  736.,\n",
       "        765.,  788.,  825.,  849.,  890.,  920.,  954.,  999., 1034.,\n",
       "       1062., 1090., 1129., 1168., 1207., 1245., 1289., 1318., 1351.,\n",
       "       1384., 1425., 1456., 1479., 1502., 1531., 1563., 1603., 1634.,\n",
       "       1675., 1712., 1731., 1779., 1805., 1836.])"
      ]
     },
     "execution_count": 100,
     "metadata": {},
     "output_type": "execute_result"
    }
   ],
   "source": [
    "y_mnlp[0]"
   ]
  },
  {
   "cell_type": "code",
   "execution_count": 21,
   "metadata": {},
   "outputs": [
    {
     "data": {
      "image/png": "[encoded data removed]",
      "text/plain": [
       "<Figure size 432x288 with 1 Axes>"
      ]
     },
     "metadata": {},
     "output_type": "display_data"
    }
   ],
   "source": [
    "a.plot()"
   ]
  },
  {
   "cell_type": "code",
   "execution_count": 14,
   "metadata": {},
   "outputs": [
    {
     "data": {
      "image/png": "[encoded data removed]",
      "text/plain": [
       "<Figure size 432x288 with 1 Axes>"
      ]
     },
     "metadata": {},
     "output_type": "display_data"
    }
   ],
   "source": [
    "a.plot()"
   ]
  },
  {
   "cell_type": "code",
   "execution_count": 15,
   "metadata": {},
   "outputs": [
    {
     "data": {
      "image/png": "[encoded data removed]",
      "text/plain": [
       "<Figure size 432x288 with 1 Axes>"
      ]
     },
     "metadata": {},
     "output_type": "display_data"
    }
   ],
   "source": [
    "a.plot()"
   ]
  },
  {
   "cell_type": "markdown",
   "metadata": {},
   "source": [
    "## Analyse the acquired sentences"
   ]
  },
  {
   "cell_type": "code",
   "execution_count": 54,
   "metadata": {},
   "outputs": [],
   "source": [
    "def print_sent(sentence):\n",
    "    s = []\n",
    "    for word in sentence:\n",
    "        s += [data_loader.idx_vocab[word]]\n",
    "    \n",
    "    print(' '.join(s))\n",
    "    \n",
    "def print_labels(tags):\n",
    "    s = []\n",
    "    for tag in tags:\n",
    "        s += [data_loader.idx_tag[tag]]\n",
    "    \n",
    "    print(' '.join(s))"
   ]
  },
  {
   "cell_type": "code",
   "execution_count": 36,
   "metadata": {},
   "outputs": [],
   "source": [
    "pool_subset_random_index = np.random.choice(range(len(a.pool_data)), 1000, replace=False)\n",
    "X_pool_subset = [a.pool_data[i] for i in pool_subset_random_index]\n",
    "y_pool_subset = [a.pool_labels[i] for i in pool_subset_random_index]"
   ]
  },
  {
   "cell_type": "code",
   "execution_count": 75,
   "metadata": {},
   "outputs": [],
   "source": [
    "# acquisition function returns the chosen positions in the passed list\n",
    "pos = random_acq(X_pool_subset, 10) "
   ]
  },
  {
   "cell_type": "code",
   "execution_count": 76,
   "metadata": {},
   "outputs": [],
   "source": [
    "datapoints = [X_pool_subset[i] for i in pos]\n",
    "labels = [y_pool_subset[i] for i in pos]"
   ]
  },
  {
   "cell_type": "code",
   "execution_count": 85,
   "metadata": {},
   "outputs": [
    {
     "name": "stdout",
     "output_type": "stream",
     "text": [
      "Lebed , who met Russian Prime Minister Viktor Chernomyrdin on Monday to discuss the progress he made on a political settlement for the breakaway region , has been seeking a meeting with President Boris Yeltsin , who started a holiday near Moscow on Monday .\n"
     ]
    }
   ],
   "source": [
    "print_sent(datapoints[4])"
   ]
  },
  {
   "cell_type": "code",
   "execution_count": 86,
   "metadata": {},
   "outputs": [
    {
     "name": "stdout",
     "output_type": "stream",
     "text": [
      "I-PER O O O I-MISC O O I-PER I-PER O O O O O O O O O O O O O O O O O O O O O O O O I-PER I-PER O O O O O O I-LOC O O O\n"
     ]
    }
   ],
   "source": [
    "print_labels(labels[4])"
   ]
  },
  {
   "cell_type": "code",
   "execution_count": null,
   "metadata": {},
   "outputs": [],
   "source": []
  },
  {
   "cell_type": "code",
   "execution_count": 131,
   "metadata": {},
   "outputs": [],
   "source": [
    "def random_acq(pool_data, num_samples, step=None):\n",
    "    # return np.random.rand(len(pool_data)) \n",
    "    return np.random.choice(len(pool_data), num_samples, replace=False)\n",
    "\n",
    "\n",
    "class ActiveLearner(object):\n",
    "    '''Performs active learning'''\n",
    "    \n",
    "    def __init__(self, pool_data, pool_labels, test_data, test_labels, \n",
    "                 clear_model_fn, train_fn, eval_fn, \n",
    "                 save_model, recover_model,\n",
    "                 init_num_samples=100):\n",
    "        '''init_num_samples denote how many datapoints to be samples initially, \n",
    "        num_smaples denote how many datapoints to be samples at each iteration'''\n",
    "        \n",
    "        # train data is python lists not numpy arrays\n",
    "        # so as to allow datapoints of different lengths like sentences\n",
    "        # list() expression also takes a deep copy\n",
    "        self.pool_data = list(pool_data)\n",
    "        self.pool_labels = list(pool_labels)\n",
    "        self.test_data = list(test_data)\n",
    "        self.test_labels = list(test_labels)\n",
    "        assert (len(self.pool_data)==len(self.pool_labels) and \n",
    "               len(self.test_data)==len(self.test_labels)), \"data and labels size don't match\"\n",
    "        \n",
    "        \n",
    "        self.init_num_samples = init_num_samples\n",
    "        self.train_fn = train_fn\n",
    "        self.eval_fn = eval_fn\n",
    "        \n",
    "        self.experiment_no = 1 \n",
    "        \n",
    "        \n",
    "        if (self.init_num_samples > len(pool_data)):\n",
    "            raise Exception('Can not pick more samples than what is available in the pool data')\n",
    "        \n",
    "        # initialize empty arrays of dimension (0, 28, 28, 1) etc.\n",
    "        # self.train_data = np.empty((0,) + self.pool_data.shape[1:])\n",
    "        # self.train_labels = np.empty((0,) + self.pool_labels.shape[1:])\n",
    "        self.train_data, self.train_labels = [], []\n",
    "        \n",
    "        self._accuracy = []\n",
    "        self._x_axis = []\n",
    "        self.acquisition_fn = None\n",
    "        \n",
    "        # initial training. \n",
    "        # But make sure that the model is cleared of previous training\n",
    "        clear_model_fn()\n",
    "        self._init_pick()\n",
    "        print ('Initial Training')\n",
    "        self.train_fn(self.train_data, self.train_labels)\n",
    "        # evaluate the accuracy after initial training\n",
    "        self._accuracy.append(self.eval_fn(self.test_data, self.test_labels, step=len(self.train_data)))\n",
    "        self._x_axis.append(len(self.train_data)) # this is over written later and hence useless here!\n",
    "        \n",
    "        # Compute summaries over the pool_data\n",
    "        # compute_pool_data_summary(self.pool_data)\n",
    "        \n",
    "        # save model function can be writing the learned model to the disk\n",
    "        # or even taking a deep copy (in RAM)\n",
    "        self.save_model = save_model\n",
    "        self.save_model()\n",
    "        print ('Successfully saved the initial model')\n",
    "        # we will recover the saved model in case of multiple runs\n",
    "        self.recover_model = recover_model\n",
    "    \n",
    "    def _init_pick(self):\n",
    "        '''Pick init_number_samples of datapoints from the unsupervised data pool\n",
    "        for initial training of the model.\n",
    "        Remove them from the pool and return the data.\n",
    "        Returns chosen datapoints and the updated pool_data'''\n",
    "\n",
    "        # np.random.seed(0)\n",
    "        indices = np.random.choice(range(len(self.pool_data)), self.init_num_samples, replace=False)\n",
    "        datapoints = [self.pool_data[i] for i in indices] # sadly multi-indexing works in numpy but not in lists\n",
    "        labels = [self.pool_labels[i] for i in indices]\n",
    "        # self.pool_data = np.delete(self.pool_data, indices, axis=0)\n",
    "        # self.pool_labels = np.delete(self.pool_labels, indices, axis=0)\n",
    "        self._delete_list_indices(self.pool_data, indices)\n",
    "        self._delete_list_indices(self.pool_labels, indices)\n",
    "        \n",
    "        print(\"Picked \" + str(self.init_num_samples) + \" datapoints\\nSize of updated unsupervised pool = \" +\n",
    "              str(len(self.pool_data)) + \"\\n\")\n",
    "        \n",
    "        if (len(self.train_data) > 0):\n",
    "            raise Exception('In _init_pick: The train data is not empty.')\n",
    "            \n",
    "        # self.train_data = np.vstack((self.train_data, datapoints))\n",
    "        # self.train_labels = np.vstack((self.train_labels, labels))\n",
    "        self.train_data += list(datapoints)\n",
    "        self.train_labels += list(labels)\n",
    "        \n",
    "    \n",
    "    def _delete_list_indices(self, l, ind):\n",
    "        for i in sorted(ind, reverse=True):\n",
    "            del l[i]\n",
    "        # In-place delete, so no need to return    \n",
    "        # return l\n",
    "\n",
    "    def _active_pick(self, acquisition_fn, step=None):\n",
    "        \"\"\"Returns the datapoints which have the highest value as per the acquisition function\n",
    "        from the pool_data.\n",
    "        step is an optional argument which can be used for things \n",
    "        like changing acquisition function according to iteration number\n",
    "        \"\"\"\n",
    "        # This condition should ideally be False because we have already done the - \n",
    "        # necessary checks while initializing run() function\n",
    "        if (len(self.pool_data) < self.num_samples):\n",
    "            raise Exception('Fatal mistake: pool data is exhausted')\n",
    "        \n",
    "            \n",
    "        how_many = self.pool_subset_count if self.pool_subset_count <= len(self.pool_data) else len(self.pool_data)\n",
    "        pool_subset_random_index = np.random.choice(range(len(self.pool_data)), how_many, replace=False)\n",
    "        X_pool_subset = [self.pool_data[i] for i in pool_subset_random_index]\n",
    "        y_pool_subset = [self.pool_labels[i] for i in pool_subset_random_index]\n",
    "\n",
    "        print('Search over Pool of Unlabeled Data size = '+ str(len(X_pool_subset)))\n",
    "\n",
    "        # acquisition function returns the chosen positions in the passed list\n",
    "        pos = acquisition_fn(X_pool_subset, self.num_samples, step) \n",
    "    \n",
    "        datapoints = [X_pool_subset[i] for i in pos]\n",
    "        labels = [y_pool_subset[i] for i in pos]\n",
    "        \n",
    "        # print pool_subset_random_index[:10]\n",
    "        # self.pool_data = np.delete(self.pool_data, (pool_subset_random_index[pos]), axis=0)\n",
    "        # self.pool_labels = np.delete(self.pool_labels, (pool_subset_random_index[pos]), axis=0)\n",
    "        indices = [pool_subset_random_index[i] for i in pos]\n",
    "        self._delete_list_indices(self.pool_data, indices)\n",
    "        self._delete_list_indices(self.pool_labels, indices)\n",
    "        \n",
    "        print(\"\\nPicked \" + str(self.num_samples) + \" datapoints\\nSize of updated Unsupervised pool = \" + \n",
    "              str(len(self.pool_data)))\n",
    "\n",
    "        # self.train_data = np.vstack((self.train_data, datapoints))\n",
    "        # self.train_labels = np.vstack((self.train_labels, labels))\n",
    "        self.train_data += list(datapoints)\n",
    "        self.train_labels += list(labels)\n",
    "\n",
    "        # return len(pos)\n",
    "        \n",
    "        ## written for NER only\n",
    "        num_words = sum([len(s) for s in datapoints])\n",
    "        return num_words\n",
    "    \n",
    "    \n",
    "    def run(self, n_iter, acquisition_fn, num_samples=10, pool_subset_count = None):\n",
    "        '''Run active learning for given number of iterations.\n",
    "        The acquisition_fn is(are) the name of the function(s) which computes acquisition values.\n",
    "        aquisition_fn can be a list of function references as well - which is called a multi_run.\n",
    "        '''\n",
    "        \n",
    "        self.num_samples = num_samples # required in _active_pick\n",
    "        \n",
    "        if ((pool_subset_count is None) or (pool_subset_count > len(self.pool_data))):\n",
    "            self.pool_subset_count = pool_subset_count = len(self.pool_data)\n",
    "        else:\n",
    "            self.pool_subset_count = pool_subset_count \n",
    "        \n",
    "        if (pool_subset_count < self.num_samples):\n",
    "            raise Exception(\"pool subset count can't be smaller than num_samples\")\n",
    "            \n",
    "        if (n_iter * self.num_samples > len(self.pool_data)):\n",
    "            raise Exception('Pool data is small.\\nReduce the number of iterations or number of samples to pick')\n",
    "         \n",
    "        if (type(acquisition_fn) is not list):    \n",
    "            # if type of aq function is not list then make it a list\n",
    "            acquisition_fn = [acquisition_fn]   \n",
    "    \n",
    "        self.acquisition_fn = acquisition_fn\n",
    "        \n",
    "        # self._x_axis = range(self.init_num_samples, self.init_num_samples + self.num_samples*(n_iter+1), self.num_samples)\n",
    "        self._x_axis = np.zeros((len(acquisition_fn), n_iter+1))\n",
    "        # initialize _accuracy matrix (2d array)\n",
    "        self._accuracy = np.zeros((len(acquisition_fn), n_iter+1))\n",
    "\n",
    "        for i_aq in range(len(acquisition_fn)):\n",
    "            # recover the model\n",
    "            self._recover_model_and_data()\n",
    "\n",
    "            # Do the testing with initial data\n",
    "            # We could have saved that value, but it is a good check if the model is properly recovered or not\n",
    "            self._accuracy[i_aq, 0] = self.eval_fn(self.test_data, self.test_labels)\n",
    "            self._x_axis[i_aq][0] = self.init_num_samples\n",
    "\n",
    "            for i in range(n_iter):\n",
    "                print('\\nExperiment ' + str(self.experiment_no) + ' Aquisition function: ' + \n",
    "                      str(acquisition_fn[i_aq].__name__) + ': ')\n",
    "                print('ACQUISITION ITERATION ' + str(i+1) + ' of ' + str(n_iter))\n",
    "                num = self._active_pick(acquisition_fn[i_aq], step=i)\n",
    "                # if active_pick doesn't return even a single datapoint, stop\n",
    "                if (num == 0):\n",
    "                    break\n",
    "                \n",
    "                # allowing non fixed number of samples to be returned from active_pick\n",
    "                # won't be suitable for running multiple experiments, but it will \n",
    "                # record only the last _x_axis\n",
    "                self._x_axis[i_aq][i+1] = self._x_axis[i_aq][i] + num\n",
    "                \n",
    "                self.train_fn(self.train_data, self.train_labels)\n",
    "                # self._accuracy[i_aq, i+1] = self.eval_fn(self.test_data, self.test_labels, step=len(self.train_data))\n",
    "                acc = self.eval_fn(self.test_data, self.test_labels, step=len(self.train_data))\n",
    "                if acc < self._accuracy[i_aq][i]:\n",
    "                    # need to restore model\n",
    "                    name = 'best'\n",
    "                    if i == 0:\n",
    "                        name = 'init'\n",
    "                    \n",
    "                    self.recover_model(name)\n",
    "                    acc = self._accuracy[i_aq][i]\n",
    "                    \n",
    "                if acc > self._accuracy[i_aq][i]:\n",
    "                    self.save_model('best')\n",
    "                \n",
    "                self._accuracy[i_aq][i+1] = acc\n",
    "                # assert self._x_axis[i+1] == len(self.train_data)\n",
    "\n",
    "                # Compute summaries over the pool_data\n",
    "                # compute_pool_data_summary(self.pool_data, step=len(self.train_data))\n",
    "        \n",
    "        return self._x_axis, self._accuracy \n",
    "    \n",
    "    \n",
    "    \n",
    "    def _recover_model_and_data(self):\n",
    "        self.recover_model()\n",
    "        print ('Recovered Saved Model')\n",
    "        \n",
    "        # reset pool_data to the whole data except initial data\n",
    "        # self.pool_data = np.vstack((self.pool_data, self.train_data[self.init_num_samples:]))\n",
    "        # self.pool_labels = np.vstack((self.pool_labels, self.train_labels[self.init_num_samples:]))\n",
    "        self.pool_data += self.train_data[self.init_num_samples:]\n",
    "        self.pool_labels += self.train_labels[self.init_num_samples:]\n",
    "        \n",
    "        # set train data to initially picked data only\n",
    "        # self.train_data = np.delete(self.train_data, range(self.init_num_samples, len(self.train_data)), axis=0)\n",
    "        # self.train_labels = np.delete(self.train_labels, range(self.init_num_samples, len(self.train_labels)), axis=0)\n",
    "        self.train_data = self.train_data[:self.init_num_samples]\n",
    "        self.train_labels = self.train_labels[:self.init_num_samples]\n",
    "\n",
    "        \n",
    "    \n",
    "    def plot(self, x_axis=None, y_axis=None, label=None, title='Active Learning', loc=0):\n",
    "        '''Plot the accuracy'''\n",
    "        %matplotlib inline\n",
    "        from matplotlib import pyplot as plt\n",
    "            \n",
    "        if x_axis is None:\n",
    "            x_axis = self._x_axis\n",
    "            y_axis = np.array(self._accuracy)\n",
    "        \n",
    "        if len(x_axis[0]) <= 1:\n",
    "            raise Exception('Please run experiment before plotting!')\n",
    "        \n",
    "        x_start = x_axis[0][0] # self.init_num_samples\n",
    "        # x_end = x_axis[-1]\n",
    "        x_end = np.max(x_axis)\n",
    "        \n",
    "        y_start = np.round(np.min(y_axis), 1)\n",
    "        if (y_start > np.min(y_axis)):\n",
    "            y_start -= 0.1\n",
    "            \n",
    "        # y_end = 1.0\n",
    "        y_end = np.round(np.max(y_axis), 1)\n",
    "        if (y_end < np.max(y_axis)):\n",
    "            y_end += 0.1\n",
    "        \n",
    "        plt.axis([x_start, x_end, y_start, y_end])\n",
    "\n",
    "        # no label is given or label doesn't correpond to multi run\n",
    "        if label is None or len(label) != len(y_axis):\n",
    "            if (self.acquisition_fn is None):\n",
    "                raise Exception('Please pass the labels array as an argument')\n",
    "            label = [s.__name__ for s in self.acquisition_fn]  \n",
    "\n",
    "        for i in range(len(y_axis)):\n",
    "             plt.plot(x_axis[i], y_axis[i], label=label[i])   \n",
    "\n",
    "        \n",
    "        plt.grid()\n",
    "        plt.title(title)\n",
    "        plt.legend(loc=loc)\n",
    "        plt.show()  \n",
    "        \n",
    "    \n",
    "    def experiment(self, n_iter, acquisition_fn, num_samples=10, pool_subset_count = None, num_exp=3):\n",
    "        '''Run the experiments for the given number of times (num_exp) and \n",
    "        return average accuracy values over all experiments.'''\n",
    "        \n",
    "        if type(acquisition_fn) is not list:\n",
    "            raise Exception('experiment is to compare different acquisition functions, hence it should be a list')\n",
    "        \n",
    "        # define new variables to hold averages: useful incase we want to stop experiment forcefully in between\n",
    "        self._avg_accuracy = np.zeros((len(acquisition_fn), n_iter+1))\n",
    "        \n",
    "        for i in range(num_exp):\n",
    "            self.experiment_no = i+1\n",
    "            print ('\\nExperiment number : ' + str(self.experiment_no) + '\\n****************\\n')\n",
    "            self.run(n_iter, acquisition_fn, num_samples, pool_subset_count)\n",
    "            self._avg_accuracy = (self._avg_accuracy * (i) + self._accuracy) / (i+1) # running average\n",
    "        \n",
    "        # finally assign back the avg accuracy to _accuracy variable for proper plotting\n",
    "        self._accuracy = self._avg_accuracy\n",
    "        \n",
    "        return self._x_axis, self._accuracy "
   ]
  }
 ],
 "metadata": {
  "kernelspec": {
   "display_name": "Python [conda env:pytorch]",
   "language": "python",
   "name": "conda-env-pytorch-py"
  },
  "language_info": {
   "codemirror_mode": {
    "name": "ipython",
    "version": 3
   },
   "file_extension": ".py",
   "mimetype": "text/x-python",
   "name": "python",
   "nbconvert_exporter": "python",
   "pygments_lexer": "ipython3",
   "version": "3.6.5"
  }
 },
 "nbformat": 4,
 "nbformat_minor": 2
}
